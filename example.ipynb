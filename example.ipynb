{
 "cells": [
  {
   "cell_type": "code",
   "execution_count": null,
   "metadata": {},
   "outputs": [],
   "source": [
    "from aulate.metrics_evaluation import AudioMetricsEvaluator\n",
    "\n",
    "evaluator = AudioMetricsEvaluator(\n",
    "    base_model='/workspace/models--ksych--salt-asr_wav-uni_1_tts_wav-uni_1-12k/snapshots/1214eda33861945eb09163f97f2f29284070dde4',\n",
    "    speechtokenizer_config=\"WavTokenizer/configs/wavtokenizer_smalldata_frame40_3s_nq1_code4096_dim512_kmeans200_attn.yaml\",\n",
    "    speechtokenizer_checkpoint=\"audiotokenizer/wavtokenizer_large_unify_600_24k.ckpt\"\n",
    ")\n",
    "\n"
   ]
  },
  {
   "cell_type": "code",
   "execution_count": null,
   "metadata": {},
   "outputs": [],
   "source": [
    "evaluator.evaluate_on_librispeech(num_samples=10,\n",
    "                                  prompt=\"with a male speaker delivers a very monotone and high-pitched speech with a very fast speed in a setting with almost no noise, creating a clear and loud recording.\",\n",
    "                                  save_audio=False)\n"
   ]
  },
  {
   "cell_type": "markdown",
   "metadata": {},
   "source": [
    "## Initialize with custom functions"
   ]
  },
  {
   "cell_type": "code",
   "execution_count": null,
   "metadata": {},
   "outputs": [],
   "source": [
    "def custom_decode(tokens):\n",
    "    # Your custom decode\n",
    "    pass\n",
    "\n",
    "def custom_inference(text, prompt):\n",
    "    # Your custom inference\n",
    "    pass\n",
    "\n",
    "evaluator = AudioMetricsEvaluator(\n",
    "    decode_fn=custom_decode,\n",
    "    inference_fn=custom_inference\n",
    ")"
   ]
  },
  {
   "cell_type": "markdown",
   "metadata": {},
   "source": [
    "## Or set them after"
   ]
  },
  {
   "cell_type": "code",
   "execution_count": null,
   "metadata": {},
   "outputs": [],
   "source": [
    "evaluator = AudioMetricsEvaluator(\n",
    "    base_model=\"path/to/model\",\n",
    "    speechtokenizer_config=\"path/to/config\",\n",
    "    speechtokenizer_checkpoint=\"path/to/checkpoint\"\n",
    ")\n",
    "\n",
    "evaluator.set_decode_fn(custom_decode)\n",
    "evaluator.set_inference_fn(custom_inference)"
   ]
  }
 ],
 "metadata": {
  "language_info": {
   "name": "python"
  }
 },
 "nbformat": 4,
 "nbformat_minor": 2
}
